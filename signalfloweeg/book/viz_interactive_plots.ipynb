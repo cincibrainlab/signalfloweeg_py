{
  "cells": [
    {
      "cell_type": "markdown",
      "metadata": {},
      "source": [
        "## Notes on Visualizations:\n",
        "When plotting EEG data using MATLAB in Jupyter Notebooks or similar notebook environments like Quattro, the choice of magic command impacts the interactivity of the resulting plot:\n",
        "\n",
        "**Inline magic command (%matplotlib inline):**\n",
        "- Produces a static, non-interactive plot embedded within the notebook\n",
        "- Faster rendering compared to interactive plots\n",
        "\n",
        "**Widget magic command (%matplotlib widget):**\n",
        "- Creates an interactive plot within the notebook\n",
        "- Allows zooming, panning, and other interactive features\n",
        "- Slower performance compared to the pop-out version using the QT framework\n",
        "\n",
        "**Pop-out version (QT framework):**\n",
        "- Generates a separate interactive plot window outside the notebook\n",
        "- Offers the fastest performance among the plotting options\n",
        "\n",
        "**Remote systems and notebooks:**\n",
        "- Notebook environments like Jupyter can be used on remote systems\n",
        "- Enables EEG data analysis and visualization through remote access solutions such as Visual Studio Code Tunnels\n",
        "\n",
        "In summary, while the widget magic command provides interactivity within the notebook, it comes with a performance trade-off. The inline magic command offers faster static plots, and the pop-out version using QT delivers the best performance. Notebooks can be utilized on remote systems, facilitating EEG data analysis and visualization in various settings.\n",
        "\n",
        "see the following link for more information ()[https://mne.tools/dev/install/advanced.html].\n",
        "\n",
        "### Customize Import Functions\n",
        "\n",
        "Experienced programmers can add additional recording types to `config/recording_types.yaml` and helper functions to `load_eeg` to support new file types.\n",
        "\n",
        "```yaml\n",
        "# Template for adding new recording types\n",
        "RECORDING_TYPE:  # (Recording System)_(Channel Count)_(File_Extenstion)\n",
        "    montage: \"MNE montage name\"\n",
        "    description: \"DESCRIPTION\"\n",
        "\n",
        "# Example\n",
        "EGI_128_RAW:\n",
        "    montage: \"GSN-HydroCel-128\"\n",
        "    description: \"EGI 128-channel Raw\"\n",
        "```\n",
        "\n",
        "Next, add a new function to `load_eeg` to support the new recording type. The function should return an MNE object with the correct channel montage and event markers. Let's walk through the process of adding a new function to `load_eeg` to support a new recording type.\n",
        "\n",
        "First to the YAML file, add a new recording type:\n",
        "\n",
        "```yaml\n",
        "NEURONEXUS_30_EDF:\n",
        "    montage: \"Custom\"\n",
        "    description: \"Neuronexus 30-channel Multielectrode Array\"\n",
        "```\n",
        "\n",
        "Next, add a new function to `load_eeg` to support the new recording type:\n",
        "\n",
        "1. First add a new condition to line 49-50 with an `elif` statement for the new recording type. Name the new function based on the recording syste, e.g., `import_neuronexus`. The result of this function should output to the variable EEG and be a valid MNE raw or epoched object.\n"
      ],
      "id": "59329884"
    },
    {
      "cell_type": "code",
      "metadata": {},
      "source": [
        "    # Add additional conditions for recording types here\n",
        "    # Call the appropriate import function\n",
        "    if recording_type == \"EGI_128_RAW\":\n",
        "        EEG = import_egi(file_path, recording_type)\n",
        "    elif recording_type == \"import_mea30\":\n",
        "        EEG = import_mea30(file_path)\n",
        "    # New condition for the Neuronexus 30-channel Multielectrode Array\n",
        "    elif recording_type == \"NEURONEXUS_30_EDF\":\n",
        "        EEG = import_neuronexus(file_path, recording_type)"
      ],
      "id": "2b5393c8",
      "execution_count": null,
      "outputs": []
    },
    {
      "cell_type": "markdown",
      "metadata": {},
      "source": [
        "2. Proceed to creating the function to import the data. The function should return an MNE object with the correct channel montage and event markers. The input arguments should include the file path and recording type. This allows you to make a single function for a recording system that can also be forked for different channel types or file extensions.\n",
        "\n",
        "For example, we will be creating a function for the Neuronexus 30-channel Multielectrode Array, however, we will use a single function to support different file extensions and channel counts. \n"
      ],
      "id": "83a51678"
    },
    {
      "cell_type": "code",
      "metadata": {},
      "source": [
        "def import_neuronexus(file_path, recording_type):\n",
        "    # Add code to import the Neuronexus 30-channel Multielectrode Array\n",
        "    # Return an MNE object with the correct channel montage and event markers\n",
        "   if recording_type == \"NEURONEXUS_30_EDF\":\n",
        "        # Add code to import the Neuronexus 30-channel Multielectrode Array\n",
        "        # Return an MNE object with the correct channel montage and event markers\n",
        "    \n",
        "    # TODO, alternative file extension\n",
        "    elif recording_type == \"NEURONEXUS_30_XDF\":\n",
        "        # Add code to import the Neuronexus 30-channel Multielectrode Array\n",
        "        # Return an MNE object with the correct channel montage and event markers\n",
        "   \n",
        "    return EEG"
      ],
      "id": "34c7ebc8",
      "execution_count": null,
      "outputs": []
    }
  ],
  "metadata": {
    "kernelspec": {
      "name": "python3",
      "language": "python",
      "display_name": "Python 3 (ipykernel)"
    }
  },
  "nbformat": 4,
  "nbformat_minor": 5
}