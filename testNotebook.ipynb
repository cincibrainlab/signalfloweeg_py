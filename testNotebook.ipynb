{
 "cells": [
  {
   "cell_type": "code",
   "execution_count": 52,
   "metadata": {},
   "outputs": [
    {
     "name": "stdout",
     "output_type": "stream",
     "text": [
      "Reading /home/cbl/Desktop/Test_Data/0012_rest.fdt\n",
      "Remaining channels: ['E3', 'E4', 'E5', 'E6', 'E7', 'E10', 'E11', 'E12', 'E13', 'E16', 'E18', 'E19', 'E20', 'E23', 'E24', 'E28', 'E29', 'E106', 'E111', 'E112', 'E117', 'E118', 'E124']\n",
      "Reading 0 ... 307139  =      0.000 ...   307.139 secs...\n"
     ]
    },
    {
     "name": "stderr",
     "output_type": "stream",
     "text": [
      "/home/cbl/mne-python/1.7.0_0/lib/python3.12/site-packages/pymatreader/utils.py:238: UserWarning: Complex objects (like classes) are not supported. They are imported on a best effort base but your mileage will vary.\n",
      "  warn('Complex objects (like classes) are not supported. '\n"
     ]
    },
    {
     "name": "stdout",
     "output_type": "stream",
     "text": [
      "Filtering raw data in 1 contiguous segment\n",
      "Setting up band-pass filter from 2 - 50 Hz\n",
      "\n",
      "FIR filter parameters\n",
      "---------------------\n",
      "Designing a one-pass, zero-phase, non-causal bandpass filter:\n",
      "- Windowed time-domain design (firwin) method\n",
      "- Hamming window with 0.0194 passband ripple and 53 dB stopband attenuation\n",
      "- Lower passband edge: 2.00\n",
      "- Lower transition bandwidth: 2.00 Hz (-6 dB cutoff frequency: 1.00 Hz)\n",
      "- Upper passband edge: 50.00 Hz\n",
      "- Upper transition bandwidth: 12.50 Hz (-6 dB cutoff frequency: 56.25 Hz)\n",
      "- Filter length: 1651 samples (1.651 s)\n",
      "\n",
      "Filtering raw data in 1 contiguous segment\n",
      "Setting up band-stop filter from 58 - 62 Hz\n",
      "\n",
      "FIR filter parameters\n",
      "---------------------\n",
      "Designing a one-pass, zero-phase, non-causal bandstop filter:\n",
      "- Windowed time-domain design (firwin) method\n",
      "- Hamming window with 0.0194 passband ripple and 53 dB stopband attenuation\n",
      "- Lower passband edge: 58.00\n",
      "- Lower transition bandwidth: 0.50 Hz (-6 dB cutoff frequency: 57.75 Hz)\n",
      "- Upper passband edge: 62.00 Hz\n",
      "- Upper transition bandwidth: 0.50 Hz (-6 dB cutoff frequency: 62.25 Hz)\n",
      "- Filter length: 6601 samples (6.601 s)\n",
      "\n"
     ]
    },
    {
     "name": "stderr",
     "output_type": "stream",
     "text": [
      "[Parallel(n_jobs=1)]: Done  17 tasks      | elapsed:    0.2s\n",
      "[Parallel(n_jobs=1)]: Done  17 tasks      | elapsed:    0.2s\n"
     ]
    },
    {
     "name": "stdout",
     "output_type": "stream",
     "text": [
      "Not setting metadata\n",
      "61 matching events found\n",
      "No baseline correction applied\n",
      "0 projection items activated\n"
     ]
    }
   ],
   "source": [
    "import signalfloweeg \n",
    "import mne \n",
    "\n",
    "filepath = \"/home/cbl/Desktop/Test_Data/0012_rest.set\"\n",
    "EEG = mne.io.read_raw_eeglab(filepath)\n",
    "\n",
    "chirp_electrode_labels = {'E23', 'E18', 'E16', 'E10', 'E3', 'E28', 'E24', 'E19', 'E11', 'E4', 'E124', 'E117',\n",
    "                          'E29', 'E20', 'E12', 'E5', 'E118', 'E111', 'E13', 'E6', 'E112', 'E7', 'E106'}\n",
    "\n",
    "all_channels = EEG.ch_names\n",
    "\n",
    "        # Identify the channels to remove\n",
    "channels_to_remove = set(all_channels) - chirp_electrode_labels\n",
    "\n",
    "        # Drop the unwanted channels from the raw data\n",
    "EEG.drop_channels(channels_to_remove)\n",
    "\n",
    "print(f\"Remaining channels: {EEG.ch_names}\")\n",
    "\n",
    "filtered_eeg = signalfloweeg.preprocessing.filtering.bandpass_filter(EEG, 2, 50)\n",
    "filtered_eeg = signalfloweeg.preprocessing.filtering.notch_filter(filtered_eeg, 60)\n",
    "filtered_eeg = signalfloweeg.preprocessing.resampling.resample(filtered_eeg, 500)\n",
    "epochs = signalfloweeg.preprocessing.epoching.epoch_time(filtered_eeg, 5)\n",
    "\n",
    "# # Access the segmented data\n",
    "# data = epochs.get_data()\n",
    "# print(data.shape)  # Shape of the segmented data\n",
    "\n",
    "# # Plot the epochs\n",
    "# epochs.plot(block=True)\n"
   ]
  },
  {
   "cell_type": "code",
   "execution_count": 55,
   "metadata": {},
   "outputs": [
    {
     "ename": "AttributeError",
     "evalue": "module 'signalfloweeg.viz.heatmap' has no attribute 'heatmap_power'",
     "output_type": "error",
     "traceback": [
      "\u001b[0;31m---------------------------------------------------------------------------\u001b[0m",
      "\u001b[0;31mAttributeError\u001b[0m                            Traceback (most recent call last)",
      "Cell \u001b[0;32mIn[55], line 1\u001b[0m\n\u001b[0;32m----> 1\u001b[0m \u001b[43msignalfloweeg\u001b[49m\u001b[38;5;241;43m.\u001b[39;49m\u001b[43mviz\u001b[49m\u001b[38;5;241;43m.\u001b[39;49m\u001b[43mheatmap\u001b[49m\u001b[38;5;241;43m.\u001b[39;49m\u001b[43mheatmap_power\u001b[49m(epochs)\n",
      "\u001b[0;31mAttributeError\u001b[0m: module 'signalfloweeg.viz.heatmap' has no attribute 'heatmap_power'"
     ]
    }
   ],
   "source": [
    "signalfloweeg.viz.heatmap.heatmap_power(epochs)"
   ]
  }
 ],
 "metadata": {
  "kernelspec": {
   "display_name": "base",
   "language": "python",
   "name": "python3"
  },
  "language_info": {
   "codemirror_mode": {
    "name": "ipython",
    "version": 3
   },
   "file_extension": ".py",
   "mimetype": "text/x-python",
   "name": "python",
   "nbconvert_exporter": "python",
   "pygments_lexer": "ipython3",
   "version": "3.12.2"
  }
 },
 "nbformat": 4,
 "nbformat_minor": 2
}
