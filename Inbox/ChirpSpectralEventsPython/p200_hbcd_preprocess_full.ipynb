{
 "cells": [
  {
   "cell_type": "code",
   "execution_count": null,
   "metadata": {},
   "outputs": [],
   "source": [
    "\n",
    "import mne\n",
    "resting_file = '/Users/ernie/Documents/ExampleData/APD/D0113_rest_postica.set'\n",
    "epochs = mne.io.read_epochs_eeglab(resting_file)"
   ]
  },
  {
   "cell_type": "markdown",
   "metadata": {},
   "source": [
    "# This section is dedicated to setting up the environment and selecting the EEG file for preprocessing.\n",
    "# It involves importing necessary libraries, defining the working directory, and implementing a file selection dialog.\n",
    "\n"
   ]
  },
  {
   "cell_type": "code",
   "execution_count": 2,
   "metadata": {},
   "outputs": [],
   "source": [
    "from tkinter import Tk, filedialog\n",
    "\n",
    "def select_working_directory():\n",
    "    root = Tk()\n",
    "    root.withdraw()  # Prevents the Tk window from appearing\n",
    "    directory = filedialog.askdirectory(initialdir='/Users/ernie/Documents/ExampleDataHbcd/', title=\"Select Working Directory\")\n",
    "    if not directory:  # If the user cancels the selection, use the default directory\n",
    "        directory = '/Users/ernie/Documents/ExampleDataHbcd/'\n",
    "    root.quit()  # Ensures the Tk event loop is terminated before destroying the window\n",
    "    root.destroy()  # Destroys the Tk root window to prevent issues when running the cell multiple times\n",
    "    return directory\n",
    "\n",
    "working_directory = select_working_directory()\n"
   ]
  },
  {
   "cell_type": "code",
   "execution_count": null,
   "metadata": {},
   "outputs": [],
   "source": [
    "# The user is prompted to select an EEG file, and if no file is selected, a default file is used for further processing.\n",
    "\n",
    "Tk().withdraw() # we don't want a full GUI, so keep the root window from appearing\n",
    "selected_file = askopenfilename(initialdir=working_directory) # show an \"Open\" dialog box and return the path to the selected file with the default directory as the working directory\n",
    "if selected_file: # if the user selects a file\n",
    "    eeg_file = selected_file\n",
    "    print(f\"Selected file: {eeg_file}\")\n",
    "else: # if the user hits cancel, use the default file\n",
    "    eeg_file = '/Users/ernie/Documents/ExampleDataHbcd/sub-PIARK0005_ses-V03_task-VEP_acq-eeg_eeg.set'\n",
    "    print(f\"Using default file: {eeg_file}\")\n"
   ]
  },
  {
   "cell_type": "code",
   "execution_count": null,
   "metadata": {},
   "outputs": [],
   "source": [
    "# Import Data\n",
    "import mne\n",
    "epochs = mne.io.read_raw_eeglab(eeg_file, preload=True)"
   ]
  },
  {
   "cell_type": "markdown",
   "metadata": {},
   "source": []
  },
  {
   "cell_type": "code",
   "execution_count": null,
   "metadata": {},
   "outputs": [],
   "source": []
  },
  {
   "cell_type": "code",
   "execution_count": null,
   "metadata": {},
   "outputs": [],
   "source": [
    "ica = mne.preprocessing.ICA(n_components=25, random_state=97, method='infomax')\n",
    "ica.fit(epochs)  # Data decomposition with 50 components and fastica method."
   ]
  },
  {
   "cell_type": "code",
   "execution_count": null,
   "metadata": {},
   "outputs": [],
   "source": [
    "%matplotlib inline\n",
    "#%matplotlib qt\n",
    "ica.plot_components(picks = range(25))"
   ]
  },
  {
   "cell_type": "code",
   "execution_count": null,
   "metadata": {},
   "outputs": [],
   "source": [
    "from mne_icalabel import label_components\n",
    "\n",
    "# assuming you have a Raw and ICA instance previously fitted\n",
    "label_components(epochs, ica, method='iclabel')"
   ]
  },
  {
   "cell_type": "code",
   "execution_count": null,
   "metadata": {},
   "outputs": [],
   "source": [
    "ica"
   ]
  },
  {
   "cell_type": "code",
   "execution_count": null,
   "metadata": {},
   "outputs": [],
   "source": [
    "from mne_icalabel.gui import label_ica_components\n",
    "res = label_ica_components(epochs, ica)\n"
   ]
  },
  {
   "cell_type": "code",
   "execution_count": null,
   "metadata": {},
   "outputs": [],
   "source": [
    "print(ica.labels_)\n",
    "print(res)"
   ]
  },
  {
   "cell_type": "code",
   "execution_count": null,
   "metadata": {},
   "outputs": [],
   "source": [
    "ica.labels_"
   ]
  },
  {
   "cell_type": "code",
   "execution_count": null,
   "metadata": {},
   "outputs": [],
   "source": [
    "ica = ICA(n_components=15, method=\"fastica\", max_iter=\"auto\").fit(epochs)\n",
    "\n",
    "ecg_epochs = create_ecg_epochs(filt_raw, tmin=-0.5, tmax=0.5)\n",
    "ecg_inds, scores = ica.find_bads_ecg(ecg_epochs, threshold=\"auto\")\n",
    "\n",
    "ica.plot_components(ecg_inds)"
   ]
  },
  {
   "cell_type": "code",
   "execution_count": null,
   "metadata": {},
   "outputs": [],
   "source": []
  },
  {
   "cell_type": "code",
   "execution_count": null,
   "metadata": {},
   "outputs": [],
   "source": [
    "fig = ica.plot_sources(epochs , show_scrollbars=False , title = \"10 ICA sources\")\n"
   ]
  },
  {
   "cell_type": "code",
   "execution_count": null,
   "metadata": {},
   "outputs": [],
   "source": [
    "epochs.load_data()\n",
    "ica.plot_sources(epochs, show_scrollbars=False, show=True)"
   ]
  },
  {
   "cell_type": "code",
   "execution_count": null,
   "metadata": {},
   "outputs": [],
   "source": [
    "ica.plot_components()\n",
    "\n",
    "# blinks\n",
    "ica.plot_overlay(epochs, exclude=[0], picks=\"eeg\")"
   ]
  },
  {
   "cell_type": "code",
   "execution_count": null,
   "metadata": {},
   "outputs": [],
   "source": [
    "ica.plot_properties(epochs, picks=[0])"
   ]
  }
 ],
 "metadata": {
  "kernelspec": {
   "display_name": "Python 3",
   "language": "python",
   "name": "python3"
  },
  "language_info": {
   "codemirror_mode": {
    "name": "ipython",
    "version": 3
   },
   "file_extension": ".py",
   "mimetype": "text/x-python",
   "name": "python",
   "nbconvert_exporter": "python",
   "pygments_lexer": "ipython3",
   "version": "3.12.2"
  }
 },
 "nbformat": 4,
 "nbformat_minor": 2
}
